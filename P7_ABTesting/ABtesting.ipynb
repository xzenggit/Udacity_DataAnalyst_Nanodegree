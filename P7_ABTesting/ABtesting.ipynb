{
 "cells": [
  {
   "cell_type": "code",
   "execution_count": 42,
   "metadata": {
    "collapsed": true
   },
   "outputs": [],
   "source": [
    "import pandas as pd\n",
    "from __future__ import division\n",
    "\n",
    "\n",
    "# load data\n",
    "control = pd.read_excel('Final_Project_Results.xlsx', 'Control')\n",
    "experiment = pd.read_excel('Final_Project_Results.xlsx', 'Experiment')"
   ]
  },
  {
   "cell_type": "code",
   "execution_count": 43,
   "metadata": {
    "collapsed": false
   },
   "outputs": [],
   "source": [
    "con_total = control['Pageviews'].sum()\n",
    "exp_total = experiment['Pageviews'].sum()"
   ]
  },
  {
   "cell_type": "code",
   "execution_count": 66,
   "metadata": {
    "collapsed": false
   },
   "outputs": [
    {
     "name": "stdout",
     "output_type": "stream",
     "text": [
      "0.498796317534\n",
      "0.501203682466\n"
     ]
    }
   ],
   "source": [
    "import numpy as np\n",
    "\n",
    "# calcuate standard deviation for number of cookies\n",
    "se = np.sqrt(0.5*0.5/(con_total + exp_total))\n",
    "\n",
    "print 0.5-se*1.96\n",
    "print 0.5+se*1.96"
   ]
  },
  {
   "cell_type": "code",
   "execution_count": 45,
   "metadata": {
    "collapsed": false
   },
   "outputs": [
    {
     "data": {
      "text/plain": [
       "0.5006396668806133"
      ]
     },
     "execution_count": 45,
     "metadata": {},
     "output_type": "execute_result"
    }
   ],
   "source": [
    "# observed\n",
    "con_total / float(exp_total+con_total)"
   ]
  },
  {
   "cell_type": "code",
   "execution_count": 69,
   "metadata": {
    "collapsed": false
   },
   "outputs": [
    {
     "name": "stdout",
     "output_type": "stream",
     "text": [
      "0.495884495724\n",
      "0.504115504276\n",
      "0.500467347407\n"
     ]
    }
   ],
   "source": [
    "# number of clicks\n",
    "con_clicks = control['Clicks'].sum()\n",
    "exp_clicks = experiment['Clicks'].sum()\n",
    "\n",
    "se_clicks = np.sqrt(0.5*0.5/ (con_clicks + exp_clicks))\n",
    "print 0.5-se_clicks*1.96\n",
    "print 0.5+se_clicks*1.96\n",
    "print con_clicks / float(exp_clicks+con_clicks)"
   ]
  },
  {
   "cell_type": "code",
   "execution_count": 53,
   "metadata": {
    "collapsed": false
   },
   "outputs": [
    {
     "name": "stdout",
     "output_type": "stream",
     "text": [
      "0.0821824406662\n",
      "0.0812103597525\n",
      "0.0830412673966\n"
     ]
    }
   ],
   "source": [
    "# for click-through-probability\n",
    "con_ctp = con_clicks / con_total\n",
    "exp_ctp = exp_clicks / exp_total\n",
    "\n",
    "se_ctp = np.sqrt(con_ctp*(1-con_ctp)/con_total)\n",
    "\n",
    "print exp_ctp\n",
    "print con_ctp - se_ctp*1.96\n",
    "print con_ctp + se_ctp*1.96\n"
   ]
  },
  {
   "cell_type": "code",
   "execution_count": 72,
   "metadata": {
    "collapsed": false
   },
   "outputs": [
    {
     "name": "stdout",
     "output_type": "stream",
     "text": [
      "690203\n"
     ]
    }
   ],
   "source": [
    "print con_total+exp_total"
   ]
  },
  {
   "cell_type": "code",
   "execution_count": 94,
   "metadata": {
    "collapsed": false
   },
   "outputs": [
    {
     "name": "stdout",
     "output_type": "stream",
     "text": [
      "-0.0291233583354\n",
      "-0.0119863908253\n"
     ]
    }
   ],
   "source": [
    "# Only for gross and net conversion due to the total pageviews number\n",
    "# exclude NaN rows\n",
    "con_click = control.iloc[:23, 2].sum()\n",
    "exp_click = experiment.iloc[:23, 2].sum()\n",
    "con_enroll = control.iloc[:23, 3].sum()\n",
    "exp_enroll = experiment.iloc[:23, 3].sum()\n",
    "\n",
    "p_pooled = (con_enroll + exp_enroll) / float(con_click + exp_click)\n",
    "se_pooled = np.sqrt(p_pooled*(1-p_pooled)/con_click +\n",
    "                    p_pooled*(1-p_pooled)/exp_click)\n",
    "\n",
    "m_gc = exp_enroll / exp_click - con_enroll / con_click\n",
    "\n",
    "print m_gc - se_pooled * 1.96\n",
    "print m_gc + se_pooled * 1.96"
   ]
  },
  {
   "cell_type": "code",
   "execution_count": 98,
   "metadata": {
    "collapsed": false
   },
   "outputs": [
    {
     "name": "stdout",
     "output_type": "stream",
     "text": [
      "-0.0116046243599\n",
      "0.0018571790108\n"
     ]
    }
   ],
   "source": [
    "# Net conversion\n",
    "con_pay = control.iloc[:23, 4].sum()\n",
    "exp_pay = experiment.iloc[:23, 4].sum()\n",
    "\n",
    "p_pay = (con_pay + exp_pay) / float(con_click + exp_click)\n",
    "se_pay = np.sqrt(p_pay*(1-p_pay)/con_click +\n",
    "                    p_pay*(1-p_pay)/exp_click)\n",
    "\n",
    "m_nc = exp_pay / exp_click - con_pay / con_click\n",
    "\n",
    "print m_nc - se_pay * 1.96\n",
    "print m_nc + se_pay * 1.96"
   ]
  },
  {
   "cell_type": "code",
   "execution_count": 107,
   "metadata": {
    "collapsed": false
   },
   "outputs": [],
   "source": [
    "con_gc = control.iloc[:23, 3] / control.iloc[:23, 2]\n",
    "exp_gc = experiment.iloc[:23, 3] / experiment.iloc[:23, 2]\n",
    "\n",
    "con_nc = control.iloc[:23, 4] / control.iloc[:23, 2]\n",
    "exp_nc = experiment.iloc[:23, 4] / experiment.iloc[:23, 2]"
   ]
  },
  {
   "cell_type": "code",
   "execution_count": 111,
   "metadata": {
    "collapsed": false
   },
   "outputs": [
    {
     "data": {
      "text/plain": [
       "10"
      ]
     },
     "execution_count": 111,
     "metadata": {},
     "output_type": "execute_result"
    }
   ],
   "source": [
    "sum(exp_nc > con_nc)"
   ]
  },
  {
   "cell_type": "code",
   "execution_count": 113,
   "metadata": {
    "collapsed": false
   },
   "outputs": [
    {
     "data": {
      "text/plain": [
       "4"
      ]
     },
     "execution_count": 113,
     "metadata": {},
     "output_type": "execute_result"
    }
   ],
   "source": [
    "sum(exp_gc > con_gc)"
   ]
  },
  {
   "cell_type": "code",
   "execution_count": 114,
   "metadata": {
    "collapsed": false
   },
   "outputs": [
    {
     "data": {
      "text/plain": [
       "23"
      ]
     },
     "execution_count": 114,
     "metadata": {},
     "output_type": "execute_result"
    }
   ],
   "source": [
    "len(con_gc)"
   ]
  },
  {
   "cell_type": "code",
   "execution_count": 116,
   "metadata": {
    "collapsed": false
   },
   "outputs": [
    {
     "data": {
      "text/plain": [
       "(-1.5, 0.67763948440551747)"
      ]
     },
     "execution_count": 116,
     "metadata": {},
     "output_type": "execute_result"
    }
   ],
   "source": [
    "from statsmodels.stats.descriptivestats import sign_test\n",
    "\n",
    "sign_test(exp_nc - con_nc)"
   ]
  },
  {
   "cell_type": "code",
   "execution_count": 117,
   "metadata": {
    "collapsed": false
   },
   "outputs": [
    {
     "data": {
      "text/plain": [
       "(-7.5, 0.0025994777679443364)"
      ]
     },
     "execution_count": 117,
     "metadata": {},
     "output_type": "execute_result"
    }
   ],
   "source": [
    "sign_test(exp_gc - con_gc)"
   ]
  }
 ],
 "metadata": {
  "kernelspec": {
   "display_name": "Python 2",
   "language": "python",
   "name": "python2"
  },
  "language_info": {
   "codemirror_mode": {
    "name": "ipython",
    "version": 2
   },
   "file_extension": ".py",
   "mimetype": "text/x-python",
   "name": "python",
   "nbconvert_exporter": "python",
   "pygments_lexer": "ipython2",
   "version": "2.7.11"
  }
 },
 "nbformat": 4,
 "nbformat_minor": 0
}
