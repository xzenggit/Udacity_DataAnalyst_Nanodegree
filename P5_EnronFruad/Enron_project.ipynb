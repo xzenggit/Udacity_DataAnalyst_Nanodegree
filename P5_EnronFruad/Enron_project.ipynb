{
 "cells": [
  {
   "cell_type": "code",
   "execution_count": 269,
   "metadata": {
    "collapsed": false
   },
   "outputs": [
    {
     "name": "stdout",
     "output_type": "stream",
     "text": [
      "Total number of data points: 146\n",
      "Number of POI is 18, and number of non-POI is 128.\n"
     ]
    }
   ],
   "source": [
    "import sys\n",
    "import pickle\n",
    "import matplotlib.pyplot as plt\n",
    "import numpy as np\n",
    "import pandas as pd\n",
    "from pprint import pprint\n",
    "from __future__ import division\n",
    "\n",
    "%matplotlib inline\n",
    "sys.path.append(\"../tools/\")\n",
    "\n",
    "from feature_format import featureFormat, targetFeatureSplit\n",
    "from tester import dump_classifier_and_data\n",
    "\n",
    "### Task 1: Select what features you'll use.\n",
    "### features_list is a list of strings, each of which is a feature name.\n",
    "### The first feature must be \"poi\".\n",
    "\n",
    "### financial features: ['salary', 'deferral_payments', 'total_payments', 'loan_advances', 'bonus', \n",
    "### 'restricted_stock_deferred', 'deferred_income', 'total_stock_value', 'expenses', 'exercised_stock_options', \n",
    "### 'other', 'long_term_incentive', 'restricted_stock', 'director_fees'] (all units are in US dollars)\n",
    "### email features: ['to_messages', 'email_address', 'from_poi_to_this_person', 'from_messages', \n",
    "### 'from_this_person_to_poi', 'shared_receipt_with_poi'] \n",
    "### (units are generally number of emails messages; notable exception is ‘email_address’, which is a text string)\n",
    "### POI label: [‘poi’] (boolean, represented as integer)\n",
    "\n",
    "# You will need to use more features\n",
    "features_list = ['poi','salary', 'bonus', 'total_payments', 'total_stock_value', 'expenses', \n",
    "                 'exercised_stock_options', 'other', 'long_term_incentive', 'from_poi_to_this_person', \n",
    "                 'from_this_person_to_poi','shared_receipt_with_poi'] \n",
    "\n",
    "\n",
    "### Load the dictionary containing the dataset\n",
    "with open(\"final_project_dataset.pkl\", \"r\") as data_file:\n",
    "    data_dict = pickle.load(data_file)\n",
    "\n",
    "### Exploratory Data Analysis\n",
    "print 'Total number of data points:', len(data_dict)\n",
    "\n",
    "# Number of POI/non-POI\n",
    "num_poi = 0\n",
    "num_nonpoi = 0\n",
    "for x in data_dict:\n",
    "    if data_dict[x]['poi']:\n",
    "        num_poi += 1\n",
    "    elif not data_dict[x]['poi']:\n",
    "        num_nonpoi += 1\n",
    "\n",
    "print 'Number of POI is {0}, and number of non-POI is {1}.'.format(num_poi, num_nonpoi)   "
   ]
  },
  {
   "cell_type": "code",
   "execution_count": 270,
   "metadata": {
    "collapsed": false
   },
   "outputs": [
    {
     "data": {
      "text/html": [
       "<div>\n",
       "<table border=\"1\" class=\"dataframe\">\n",
       "  <thead>\n",
       "    <tr style=\"text-align: right;\">\n",
       "      <th></th>\n",
       "      <th>salary</th>\n",
       "      <th>to_messages</th>\n",
       "      <th>deferral_payments</th>\n",
       "      <th>total_payments</th>\n",
       "      <th>exercised_stock_options</th>\n",
       "      <th>bonus</th>\n",
       "      <th>restricted_stock</th>\n",
       "      <th>shared_receipt_with_poi</th>\n",
       "      <th>restricted_stock_deferred</th>\n",
       "      <th>total_stock_value</th>\n",
       "      <th>...</th>\n",
       "      <th>loan_advances</th>\n",
       "      <th>from_messages</th>\n",
       "      <th>other</th>\n",
       "      <th>from_this_person_to_poi</th>\n",
       "      <th>poi</th>\n",
       "      <th>director_fees</th>\n",
       "      <th>deferred_income</th>\n",
       "      <th>long_term_incentive</th>\n",
       "      <th>email_address</th>\n",
       "      <th>from_poi_to_this_person</th>\n",
       "    </tr>\n",
       "  </thead>\n",
       "  <tbody>\n",
       "    <tr>\n",
       "      <th>ALLEN PHILLIP K</th>\n",
       "      <td>201955</td>\n",
       "      <td>2902</td>\n",
       "      <td>2869717</td>\n",
       "      <td>4484442</td>\n",
       "      <td>1729541</td>\n",
       "      <td>4175000</td>\n",
       "      <td>126027</td>\n",
       "      <td>1407</td>\n",
       "      <td>-126027</td>\n",
       "      <td>1729541</td>\n",
       "      <td>...</td>\n",
       "      <td>NaN</td>\n",
       "      <td>2195</td>\n",
       "      <td>152</td>\n",
       "      <td>65</td>\n",
       "      <td>False</td>\n",
       "      <td>NaN</td>\n",
       "      <td>-3081055</td>\n",
       "      <td>304805</td>\n",
       "      <td>phillip.allen@enron.com</td>\n",
       "      <td>47</td>\n",
       "    </tr>\n",
       "    <tr>\n",
       "      <th>BADUM JAMES P</th>\n",
       "      <td>NaN</td>\n",
       "      <td>NaN</td>\n",
       "      <td>178980</td>\n",
       "      <td>182466</td>\n",
       "      <td>257817</td>\n",
       "      <td>NaN</td>\n",
       "      <td>NaN</td>\n",
       "      <td>NaN</td>\n",
       "      <td>NaN</td>\n",
       "      <td>257817</td>\n",
       "      <td>...</td>\n",
       "      <td>NaN</td>\n",
       "      <td>NaN</td>\n",
       "      <td>NaN</td>\n",
       "      <td>NaN</td>\n",
       "      <td>False</td>\n",
       "      <td>NaN</td>\n",
       "      <td>NaN</td>\n",
       "      <td>NaN</td>\n",
       "      <td>NaN</td>\n",
       "      <td>NaN</td>\n",
       "    </tr>\n",
       "    <tr>\n",
       "      <th>BANNANTINE JAMES M</th>\n",
       "      <td>477</td>\n",
       "      <td>566</td>\n",
       "      <td>NaN</td>\n",
       "      <td>916197</td>\n",
       "      <td>4046157</td>\n",
       "      <td>NaN</td>\n",
       "      <td>1757552</td>\n",
       "      <td>465</td>\n",
       "      <td>-560222</td>\n",
       "      <td>5243487</td>\n",
       "      <td>...</td>\n",
       "      <td>NaN</td>\n",
       "      <td>29</td>\n",
       "      <td>864523</td>\n",
       "      <td>0</td>\n",
       "      <td>False</td>\n",
       "      <td>NaN</td>\n",
       "      <td>-5104</td>\n",
       "      <td>NaN</td>\n",
       "      <td>james.bannantine@enron.com</td>\n",
       "      <td>39</td>\n",
       "    </tr>\n",
       "    <tr>\n",
       "      <th>BAXTER JOHN C</th>\n",
       "      <td>267102</td>\n",
       "      <td>NaN</td>\n",
       "      <td>1295738</td>\n",
       "      <td>5634343</td>\n",
       "      <td>6680544</td>\n",
       "      <td>1200000</td>\n",
       "      <td>3942714</td>\n",
       "      <td>NaN</td>\n",
       "      <td>NaN</td>\n",
       "      <td>10623258</td>\n",
       "      <td>...</td>\n",
       "      <td>NaN</td>\n",
       "      <td>NaN</td>\n",
       "      <td>2660303</td>\n",
       "      <td>NaN</td>\n",
       "      <td>False</td>\n",
       "      <td>NaN</td>\n",
       "      <td>-1386055</td>\n",
       "      <td>1586055</td>\n",
       "      <td>NaN</td>\n",
       "      <td>NaN</td>\n",
       "    </tr>\n",
       "    <tr>\n",
       "      <th>BAY FRANKLIN R</th>\n",
       "      <td>239671</td>\n",
       "      <td>NaN</td>\n",
       "      <td>260455</td>\n",
       "      <td>827696</td>\n",
       "      <td>NaN</td>\n",
       "      <td>400000</td>\n",
       "      <td>145796</td>\n",
       "      <td>NaN</td>\n",
       "      <td>-82782</td>\n",
       "      <td>63014</td>\n",
       "      <td>...</td>\n",
       "      <td>NaN</td>\n",
       "      <td>NaN</td>\n",
       "      <td>69</td>\n",
       "      <td>NaN</td>\n",
       "      <td>False</td>\n",
       "      <td>NaN</td>\n",
       "      <td>-201641</td>\n",
       "      <td>NaN</td>\n",
       "      <td>frank.bay@enron.com</td>\n",
       "      <td>NaN</td>\n",
       "    </tr>\n",
       "  </tbody>\n",
       "</table>\n",
       "<p>5 rows × 21 columns</p>\n",
       "</div>"
      ],
      "text/plain": [
       "                    salary to_messages deferral_payments total_payments  \\\n",
       "ALLEN PHILLIP K     201955        2902           2869717        4484442   \n",
       "BADUM JAMES P          NaN         NaN            178980         182466   \n",
       "BANNANTINE JAMES M     477         566               NaN         916197   \n",
       "BAXTER JOHN C       267102         NaN           1295738        5634343   \n",
       "BAY FRANKLIN R      239671         NaN            260455         827696   \n",
       "\n",
       "                   exercised_stock_options    bonus restricted_stock  \\\n",
       "ALLEN PHILLIP K                    1729541  4175000           126027   \n",
       "BADUM JAMES P                       257817      NaN              NaN   \n",
       "BANNANTINE JAMES M                 4046157      NaN          1757552   \n",
       "BAXTER JOHN C                      6680544  1200000          3942714   \n",
       "BAY FRANKLIN R                         NaN   400000           145796   \n",
       "\n",
       "                   shared_receipt_with_poi restricted_stock_deferred  \\\n",
       "ALLEN PHILLIP K                       1407                   -126027   \n",
       "BADUM JAMES P                          NaN                       NaN   \n",
       "BANNANTINE JAMES M                     465                   -560222   \n",
       "BAXTER JOHN C                          NaN                       NaN   \n",
       "BAY FRANKLIN R                         NaN                    -82782   \n",
       "\n",
       "                   total_stock_value           ...           loan_advances  \\\n",
       "ALLEN PHILLIP K              1729541           ...                     NaN   \n",
       "BADUM JAMES P                 257817           ...                     NaN   \n",
       "BANNANTINE JAMES M           5243487           ...                     NaN   \n",
       "BAXTER JOHN C               10623258           ...                     NaN   \n",
       "BAY FRANKLIN R                 63014           ...                     NaN   \n",
       "\n",
       "                   from_messages    other from_this_person_to_poi    poi  \\\n",
       "ALLEN PHILLIP K             2195      152                      65  False   \n",
       "BADUM JAMES P                NaN      NaN                     NaN  False   \n",
       "BANNANTINE JAMES M            29   864523                       0  False   \n",
       "BAXTER JOHN C                NaN  2660303                     NaN  False   \n",
       "BAY FRANKLIN R               NaN       69                     NaN  False   \n",
       "\n",
       "                   director_fees deferred_income long_term_incentive  \\\n",
       "ALLEN PHILLIP K              NaN        -3081055              304805   \n",
       "BADUM JAMES P                NaN             NaN                 NaN   \n",
       "BANNANTINE JAMES M           NaN           -5104                 NaN   \n",
       "BAXTER JOHN C                NaN        -1386055             1586055   \n",
       "BAY FRANKLIN R               NaN         -201641                 NaN   \n",
       "\n",
       "                                 email_address from_poi_to_this_person  \n",
       "ALLEN PHILLIP K        phillip.allen@enron.com                      47  \n",
       "BADUM JAMES P                              NaN                     NaN  \n",
       "BANNANTINE JAMES M  james.bannantine@enron.com                      39  \n",
       "BAXTER JOHN C                              NaN                     NaN  \n",
       "BAY FRANKLIN R             frank.bay@enron.com                     NaN  \n",
       "\n",
       "[5 rows x 21 columns]"
      ]
     },
     "execution_count": 270,
     "metadata": {},
     "output_type": "execute_result"
    }
   ],
   "source": [
    "# Change dictionary to dataframe\n",
    "full_data = pd.DataFrame.from_dict(data_dict, orient='index')\n",
    "full_data.head()"
   ]
  },
  {
   "cell_type": "code",
   "execution_count": 271,
   "metadata": {
    "collapsed": false
   },
   "outputs": [
    {
     "name": "stdout",
     "output_type": "stream",
     "text": [
      "Number of missing values for each variable: \n",
      "{'bonus': 64,\n",
      " 'deferral_payments': 107,\n",
      " 'deferred_income': 97,\n",
      " 'director_fees': 129,\n",
      " 'email_address': 35,\n",
      " 'exercised_stock_options': 44,\n",
      " 'expenses': 51,\n",
      " 'from_messages': 60,\n",
      " 'from_poi_to_this_person': 60,\n",
      " 'from_this_person_to_poi': 60,\n",
      " 'loan_advances': 142,\n",
      " 'long_term_incentive': 80,\n",
      " 'other': 53,\n",
      " 'restricted_stock': 36,\n",
      " 'restricted_stock_deferred': 128,\n",
      " 'salary': 51,\n",
      " 'shared_receipt_with_poi': 60,\n",
      " 'to_messages': 60,\n",
      " 'total_payments': 21,\n",
      " 'total_stock_value': 20}\n"
     ]
    },
    {
     "data": {
      "text/plain": [
       "<matplotlib.text.Text at 0x1157ae190>"
      ]
     },
     "execution_count": 271,
     "metadata": {},
     "output_type": "execute_result"
    },
    {
     "data": {
      "image/png": "[encoded data removed]",
      "text/plain": [
       "<matplotlib.figure.Figure at 0x110698850>"
      ]
     },
     "metadata": {},
     "output_type": "display_data"
    }
   ],
   "source": [
    "# Get the NaN number for each variable\n",
    "nan_dict = {}\n",
    "for x in full_data.columns:\n",
    "    if x != 'poi':\n",
    "        nan_dict[x] = sum(full_data[x]=='NaN')\n",
    "        \n",
    "print 'Number of missing values for each variable: '\n",
    "pprint(nan_dict)\n",
    "        \n",
    "plt.figure(figsize=(15, 5))\n",
    "bar_width = 0.5\n",
    "plt.bar(range(len(nan_dict)), nan_dict.values(), bar_width)\n",
    "plt.xticks(np.array(range(len(nan_dict))) + bar_width/2, nan_dict.keys(), rotation=80)\n",
    "plt.xlabel('Variable')\n",
    "plt.ylabel('NaN Count')\n",
    "plt.title('Number of missing values for each variabe')"
   ]
  },
  {
   "cell_type": "code",
   "execution_count": 272,
   "metadata": {
    "collapsed": false
   },
   "outputs": [
    {
     "data": {
      "text/plain": [
       "<matplotlib.text.Text at 0x115975090>"
      ]
     },
     "execution_count": 272,
     "metadata": {},
     "output_type": "execute_result"
    },
    {
     "data": {
      "image/png": "[encoded data removed]",
      "text/plain": [
       "<matplotlib.figure.Figure at 0x1155e4cd0>"
      ]
     },
     "metadata": {},
     "output_type": "display_data"
    }
   ],
   "source": [
    "# Find outlier\n",
    "plt.figure(figsize=(8, 5))\n",
    "plt.scatter(full_data['salary'], full_data['bonus'])\n",
    "plt.xlabel('salary')\n",
    "plt.ylabel('bonus')\n",
    "plt.title('salary vs bonus')"
   ]
  },
  {
   "cell_type": "code",
   "execution_count": 273,
   "metadata": {
    "collapsed": false
   },
   "outputs": [],
   "source": [
    "### Task 2: Remove outliers\n",
    "tmp = full_data['salary'].copy()\n",
    "tmp[tmp=='NaN'] = -999\n",
    "ind = tmp > 1e7\n",
    "good_data = full_data[-ind]"
   ]
  },
  {
   "cell_type": "code",
   "execution_count": 274,
   "metadata": {
    "collapsed": false
   },
   "outputs": [
    {
     "name": "stderr",
     "output_type": "stream",
     "text": [
      "/Users/yanshi/anaconda/lib/python2.7/site-packages/ipykernel/__main__.py:5: SettingWithCopyWarning: \n",
      "A value is trying to be set on a copy of a slice from a DataFrame.\n",
      "Try using .loc[row_indexer,col_indexer] = value instead\n",
      "\n",
      "See the caveats in the documentation: http://pandas.pydata.org/pandas-docs/stable/indexing.html#indexing-view-versus-copy\n",
      "/Users/yanshi/anaconda/lib/python2.7/site-packages/ipykernel/__main__.py:6: SettingWithCopyWarning: \n",
      "A value is trying to be set on a copy of a slice from a DataFrame.\n",
      "Try using .loc[row_indexer,col_indexer] = value instead\n",
      "\n",
      "See the caveats in the documentation: http://pandas.pydata.org/pandas-docs/stable/indexing.html#indexing-view-versus-copy\n"
     ]
    }
   ],
   "source": [
    "### Task 3: Create new feature(s)\n",
    "# Two new features are created.\n",
    "# One is sacled_to_poi = from_this_person_to_poi / from_messages\n",
    "# The other one is scaled_from_poi = from_poi_to_this_person_ / to_messages\n",
    "good_data['scaled_to_poi'] = good_data['from_this_person_to_poi'].astype(float) / good_data['from_messages'].astype(float)\n",
    "good_data['scaled_from_poi'] = good_data['from_poi_to_this_person'].astype(float) / good_data['to_messages'].astype(float)\n"
   ]
  },
  {
   "cell_type": "code",
   "execution_count": 275,
   "metadata": {
    "collapsed": false
   },
   "outputs": [
    {
     "data": {
      "image/png": "[encoded data removed]",
      "text/plain": [
       "<matplotlib.figure.Figure at 0x1153a9f90>"
      ]
     },
     "metadata": {},
     "output_type": "display_data"
    }
   ],
   "source": [
    "# Feature selection\n",
    "from sklearn.feature_selection import SelectKBest\n",
    "from sklearn.feature_selection import f_classif\n",
    "\n",
    "# Get rid of columns with missing value greater than 55%\n",
    "tmp1 = nan_dict.values() \n",
    "tmp2 = nan_dict.keys()\n",
    "col_missing = list(np.array(tmp2)[np.array(tmp1) > len(data_dict)*0.55])\n",
    "\n",
    "tmp = good_data.columns\n",
    "tmp.drop(col_missing)\n",
    "tmp_df = good_data.ix[:, tmp.drop(['poi', 'email_address'])].astype(float)\n",
    "tmp_df = tmp_df.fillna(0)\n",
    "\n",
    "# Use Univariate selection method to choose useful features\n",
    "\n",
    "def select_Kfeatures(k, tmp_df, good_data):\n",
    "    \"\"\"\n",
    "    For select the best K features.\n",
    "    \"\"\"\n",
    "    from sklearn.metrics import f1_score\n",
    "    from sklearn.metrics import precision_score\n",
    "    from sklearn.metrics import recall_score\n",
    "    from sklearn.naive_bayes import GaussianNB\n",
    "    from sklearn.cross_validation import train_test_split\n",
    "    from sklearn import tree\n",
    "    \n",
    "    selectK = SelectKBest(f_classif, k = k).fit(tmp_df, good_data['poi'].astype(int))\n",
    "\n",
    "    # Change useful features into dictionary\n",
    "    new_df = tmp_df.copy()\n",
    "    new_df['poi'] = good_data['poi']\n",
    "    new_dict = new_df.to_dict(orient='index')\n",
    "\n",
    "    # Assign the selected feature to the feature list\n",
    "    features_list = list(new_df.columns[selectK.get_support()])\n",
    "    features_list.append('poi')\n",
    "    features_list.reverse()\n",
    "\n",
    "    new_dataset = new_dict\n",
    "\n",
    "    ### Extract features and labels from dataset for local testing\n",
    "    data = featureFormat(new_dataset, features_list, sort_keys = True)\n",
    "    labels, features = targetFeatureSplit(data)\n",
    "    \n",
    "    features_train, features_test, labels_train, labels_test = \\\n",
    "        train_test_split(features, labels, test_size=0.3, random_state=42)\n",
    "    # clf = GaussianNB().fit(features_train, labels_train)\n",
    "    clf = tree.DecisionTreeClassifier().fit(features_train, labels_train)\n",
    "\n",
    "    prec_score = precision_score(labels_test, clf.predict(features_test))\n",
    "    recal_score = recall_score(labels_test, clf.predict(features_test))\n",
    "    clf = None\n",
    "    return prec_score, recal_score, k\n",
    "\n",
    "\n",
    "N = []\n",
    "prec_score = []\n",
    "recal_score = []\n",
    "for k in range(tmp_df.shape[1]):\n",
    "    tmp1, tmp2, tmp3 = select_Kfeatures(k+1, tmp_df, good_data)\n",
    "    N.append(tmp3)\n",
    "    prec_score.append(tmp1)\n",
    "    recal_score.append(tmp2)\n",
    "    \n",
    "# plot score vs precision and recall\n",
    "plt.plot(N, prec_score, '-o')\n",
    "plt.plot(N, recal_score, '-r*')\n",
    "plt.xlabel(\"K best features\")\n",
    "plt.ylabel(\"Score\")\n",
    "plt.legend([\"Precision\", \"Recall\"])\n",
    "plt.title(\"Prcision and Recall vs. Number of Features\")\n",
    "plt.savefig(\"Kbest.pdf\")"
   ]
  },
  {
   "cell_type": "code",
   "execution_count": 276,
   "metadata": {
    "collapsed": false
   },
   "outputs": [
    {
     "name": "stdout",
     "output_type": "stream",
     "text": [
      "Score generated by SelectKBest:\n",
      "25.3801052998 expenses\n",
      "24.7525230203 from_this_person_to_poi\n",
      "21.327890414 exercised_stock_options\n",
      "18.8617953165 salary\n",
      "9.48074320348 other\n",
      "8.96781934768 total_stock_value\n",
      "8.90382155717 long_term_incentive\n",
      "6.3746144902 shared_receipt_with_poi\n",
      "1.75169427903 bonus\n",
      "0.20970584227 total_payments\n",
      "0.0644770280387 from_poi_to_this_person\n"
     ]
    }
   ],
   "source": [
    "selectK = SelectKBest(f_classif, k = 5).fit(tmp_df, good_data['poi'].astype(int))\n",
    "\n",
    "print \"Score generated by SelectKBest:\"\n",
    "scores_list,feat_list = (list(x) for x in zip(*sorted(zip(selectK.scores_,features_list[1:]), reverse=True, key=lambda pair: pair[0])))\n",
    "for i in range(len(feat_list)):\n",
    "      print scores_list[i],feat_list[i]"
   ]
  },
  {
   "cell_type": "code",
   "execution_count": 277,
   "metadata": {
    "collapsed": false
   },
   "outputs": [
    {
     "name": "stdout",
     "output_type": "stream",
     "text": [
      "Selected features:\n",
      "Index([u'salary', u'exercised_stock_options', u'bonus', u'total_stock_value',\n",
      "       u'scaled_to_poi'],\n",
      "      dtype='object')\n"
     ]
    },
    {
     "data": {
      "image/png": "[encoded data removed]",
      "text/plain": [
       "<matplotlib.figure.Figure at 0x1157e2e50>"
      ]
     },
     "metadata": {},
     "output_type": "display_data"
    }
   ],
   "source": [
    "# print 'Score generated by SelectKBest:'\n",
    "# pprint(zip(tmp_df.columns, selectK.scores_))\n",
    "plt.scatter(range(len(selectK.scores_)),selectK.scores_)\n",
    "plt.xlabel('Variable Index')\n",
    "plt.ylabel('Score')\n",
    "plt.title('Score Generated by SelectKBest for Each Variable')\n",
    "\n",
    "print 'Selected features:'\n",
    "print tmp_df.columns[selectK.get_support()]"
   ]
  },
  {
   "cell_type": "code",
   "execution_count": 278,
   "metadata": {
    "collapsed": false
   },
   "outputs": [],
   "source": [
    "# Change useful features into dictionary\n",
    "tmp_df['poi'] = good_data['poi']\n",
    "new_dict = tmp_df.to_dict(orient='index')"
   ]
  },
  {
   "cell_type": "code",
   "execution_count": 279,
   "metadata": {
    "collapsed": false
   },
   "outputs": [],
   "source": [
    "# Assign the selected feature to the feature list\n",
    "features_list = list(tmp_df.columns[selectK.get_support()])\n",
    "features_list.append('poi')\n",
    "features_list.reverse()\n",
    "### Store to my_dataset for easy export below.\n",
    "my_dataset = new_dict\n",
    "\n",
    "### Extract features and labels from dataset for local testing\n",
    "data = featureFormat(my_dataset, features_list, sort_keys = True)\n",
    "labels, features = targetFeatureSplit(data)"
   ]
  },
  {
   "cell_type": "code",
   "execution_count": 280,
   "metadata": {
    "collapsed": false
   },
   "outputs": [
    {
     "name": "stdout",
     "output_type": "stream",
     "text": [
      "GuassianNB performance: \n",
      "Precision score is: 0.25\n",
      "Recall score is: 0.2\n",
      "F1 score is: 0.222222222222\n"
     ]
    }
   ],
   "source": [
    "### Task 4: Try a varity of classifiers\n",
    "### Please name your classifier clf for easy export below.\n",
    "### Note that if you want to do PCA or other multi-stage operations,\n",
    "### you'll need to use Pipelines. For more info:\n",
    "### http://scikit-learn.org/stable/modules/pipeline.html\n",
    "\n",
    "# precision and recall: http://scikit-learn.org/stable/auto_examples/model_selection/plot_precision_recall.html\n",
    "\n",
    "# Provided to give you a starting point. Try a variety of classifiers.\n",
    "from sklearn.metrics import f1_score\n",
    "from sklearn.metrics import precision_score\n",
    "from sklearn.metrics import recall_score\n",
    "from sklearn.naive_bayes import GaussianNB\n",
    "from sklearn.cross_validation import train_test_split\n",
    "\n",
    "features_train, features_test, labels_train, labels_test = \\\n",
    "    train_test_split(features, labels, test_size=0.3, random_state=42)\n",
    "    \n",
    "# Gaussian Naive Bayes\n",
    "clf = GaussianNB().fit(features_train, labels_train)\n",
    "print \"GuassianNB performance: \"\n",
    "print 'Precision score is:', precision_score(labels_test, clf.predict(features_test))\n",
    "print 'Recall score is:', recall_score(labels_test, clf.predict(features_test))\n",
    "print 'F1 score is:', f1_score(labels_test, clf.predict(features_test))"
   ]
  },
  {
   "cell_type": "code",
   "execution_count": 281,
   "metadata": {
    "collapsed": false
   },
   "outputs": [
    {
     "name": "stdout",
     "output_type": "stream",
     "text": [
      "Decision Tree performance: \n",
      "Precision score is: 0.375\n",
      "Recall score is: 0.6\n",
      "F1 score is: 0.461538461538\n"
     ]
    }
   ],
   "source": [
    "# Decision Tree\n",
    "from sklearn import tree\n",
    "clf = tree.DecisionTreeClassifier().fit(features_train, labels_train)\n",
    "print \"Decision Tree performance: \"\n",
    "print 'Precision score is:', precision_score(labels_test, clf.predict(features_test))\n",
    "print 'Recall score is:', recall_score(labels_test, clf.predict(features_test))\n",
    "print 'F1 score is:', f1_score(labels_test, clf.predict(features_test))"
   ]
  },
  {
   "cell_type": "code",
   "execution_count": 282,
   "metadata": {
    "collapsed": false
   },
   "outputs": [],
   "source": [
    "### Task 5: Tune your classifier to achieve better than .3 precision and recall\n",
    "### using our testing script. Check the tester.py script in the final project\n",
    "### folder for details on the evaluation method, especially the test_classifier\n",
    "### function. Because of the small size of the dataset, the script uses\n",
    "### stratified shuffle split cross validation. For more info:\n",
    "### http://scikit-learn.org/stable/modules/generated/sklearn.cross_validation.StratifiedShuffleSplit.html\n",
    "\n",
    "# Example starting point. Try investigating other evaluation techniques!\n"
   ]
  },
  {
   "cell_type": "code",
   "execution_count": 283,
   "metadata": {
    "collapsed": false
   },
   "outputs": [],
   "source": [
    "from sklearn import grid_search\n",
    "from sklearn.cross_validation import StratifiedShuffleSplit\n",
    "from sklearn.pipeline import Pipeline\n",
    "from sklearn.preprocessing import MinMaxScaler\n",
    "\n",
    "pipe = Pipeline(steps=[('minmaxer', MinMaxScaler()), ('tmp', tree.DecisionTreeClassifier())])\n",
    "parameters = {'tmp__criterion': ('gini', 'entropy'), 'tmp__max_features': ('auto', 'log2', 'sqrt')}\n",
    "\n",
    "cv = StratifiedShuffleSplit(labels_train,n_iter = 50,random_state = 42)\n",
    "a_grid_search = grid_search.GridSearchCV(pipe, param_grid = parameters, cv = cv,scoring = 'recall'\n",
    "                            ).fit(features_train, labels_train)\n",
    "# pick a winner\n",
    "clf = a_grid_search.best_estimator_ # This is the best classifier"
   ]
  },
  {
   "cell_type": "code",
   "execution_count": 284,
   "metadata": {
    "collapsed": false
   },
   "outputs": [
    {
     "name": "stdout",
     "output_type": "stream",
     "text": [
      "Decision Tree performance on testing dataset: \n",
      "Precision score is: 0.5\n",
      "Recall score is: 0.8\n",
      "F1 score is: 0.615384615385\n"
     ]
    }
   ],
   "source": [
    "print \"Decision Tree performance on testing dataset: \"\n",
    "print 'Precision score is:', precision_score(labels_test, clf.predict(features_test))\n",
    "print 'Recall score is:', recall_score(labels_test, clf.predict(features_test))\n",
    "print 'F1 score is:', f1_score(labels_test, clf.predict(features_test))"
   ]
  },
  {
   "cell_type": "code",
   "execution_count": 285,
   "metadata": {
    "collapsed": true
   },
   "outputs": [],
   "source": [
    "### Task 6: Dump your classifier, dataset, and features_list so anyone can\n",
    "### check your results. You do not need to change anything below, but make sure\n",
    "### that the version of poi_id.py that you submit can be run on its own and\n",
    "### generates the necessary .pkl files for validating your results.\n",
    "\n",
    "dump_classifier_and_data(clf, my_dataset, features_list)"
   ]
  },
  {
   "cell_type": "code",
   "execution_count": 286,
   "metadata": {
    "collapsed": false
   },
   "outputs": [
    {
     "name": "stdout",
     "output_type": "stream",
     "text": [
      "Pipeline(steps=[('minmaxer', MinMaxScaler(copy=True, feature_range=(0, 1))), ('tmp', DecisionTreeClassifier(class_weight=None, criterion='entropy', max_depth=None,\n",
      "            max_features='log2', max_leaf_nodes=None, min_samples_leaf=1,\n",
      "            min_samples_split=2, min_weight_fraction_leaf=0.0,\n",
      "            presort=False, random_state=None, splitter='best'))])\n",
      "\tAccuracy: 0.80750\tPrecision: 0.32789\tRecall: 0.33100\tF1: 0.32944\tF2: 0.33037\n",
      "\tTotal predictions: 14000\tTrue positives:  662\tFalse positives: 1357\tFalse negatives: 1338\tTrue negatives: 10643\n",
      "\n"
     ]
    }
   ],
   "source": [
    "%run tester.py"
   ]
  }
 ],
 "metadata": {
  "kernelspec": {
   "display_name": "Python 2",
   "language": "python",
   "name": "python2"
  },
  "language_info": {
   "codemirror_mode": {
    "name": "ipython",
    "version": 2
   },
   "file_extension": ".py",
   "mimetype": "text/x-python",
   "name": "python",
   "nbconvert_exporter": "python",
   "pygments_lexer": "ipython2",
   "version": "2.7.10"
  }
 },
 "nbformat": 4,
 "nbformat_minor": 0
}
